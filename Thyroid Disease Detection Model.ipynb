{
 "cells": [
  {
   "cell_type": "markdown",
   "id": "f73f52eb-1bfb-4913-b5b1-39b00d760cbe",
   "metadata": {},
   "source": [
    "<h5 style =\"color: #fb8500;font-size:25px; font-style:bold; text-decoration: underline;\"> Model Creation </h5>\n",
    " "
   ]
  },
  {
   "cell_type": "code",
   "execution_count": 1,
   "id": "98eddf28-9844-4550-93a5-6b397c8b3d0d",
   "metadata": {},
   "outputs": [],
   "source": [
    "import pandas as pd"
   ]
  },
  {
   "cell_type": "code",
   "execution_count": 2,
   "id": "75c4ead9-0de1-4332-a288-fd5fce0d4fcf",
   "metadata": {},
   "outputs": [],
   "source": [
    "data = pd.read_csv('Data/Scaled Thyroid Data.csv')"
   ]
  },
  {
   "cell_type": "code",
   "execution_count": 4,
   "id": "110fbc57-2d70-4706-b4a8-9326c4d99dce",
   "metadata": {},
   "outputs": [
    {
     "data": {
      "text/html": [
       "<div>\n",
       "<style scoped>\n",
       "    .dataframe tbody tr th:only-of-type {\n",
       "        vertical-align: middle;\n",
       "    }\n",
       "\n",
       "    .dataframe tbody tr th {\n",
       "        vertical-align: top;\n",
       "    }\n",
       "\n",
       "    .dataframe thead th {\n",
       "        text-align: right;\n",
       "    }\n",
       "</style>\n",
       "<table border=\"1\" class=\"dataframe\">\n",
       "  <thead>\n",
       "    <tr style=\"text-align: right;\">\n",
       "      <th></th>\n",
       "      <th>age</th>\n",
       "      <th>sex</th>\n",
       "      <th>on thyroxine</th>\n",
       "      <th>query on thyroxine</th>\n",
       "      <th>on antithyroid medication</th>\n",
       "      <th>sick</th>\n",
       "      <th>pregnant</th>\n",
       "      <th>thyroid surgery</th>\n",
       "      <th>I131 treatment</th>\n",
       "      <th>query hypothyroid</th>\n",
       "      <th>...</th>\n",
       "      <th>T3</th>\n",
       "      <th>TT4 measured</th>\n",
       "      <th>TT4</th>\n",
       "      <th>T4U measured</th>\n",
       "      <th>T4U</th>\n",
       "      <th>FTI measured</th>\n",
       "      <th>FTI</th>\n",
       "      <th>TBG measured</th>\n",
       "      <th>TBG</th>\n",
       "      <th>Classes</th>\n",
       "    </tr>\n",
       "  </thead>\n",
       "  <tbody>\n",
       "    <tr>\n",
       "      <th>0</th>\n",
       "      <td>0.430108</td>\n",
       "      <td>0</td>\n",
       "      <td>0</td>\n",
       "      <td>0</td>\n",
       "      <td>0</td>\n",
       "      <td>0</td>\n",
       "      <td>0</td>\n",
       "      <td>0</td>\n",
       "      <td>0</td>\n",
       "      <td>0</td>\n",
       "      <td>...</td>\n",
       "      <td>0.235849</td>\n",
       "      <td>1</td>\n",
       "      <td>0.290698</td>\n",
       "      <td>1</td>\n",
       "      <td>0.491379</td>\n",
       "      <td>1</td>\n",
       "      <td>0.275949</td>\n",
       "      <td>0</td>\n",
       "      <td>0.0</td>\n",
       "      <td>2</td>\n",
       "    </tr>\n",
       "    <tr>\n",
       "      <th>1</th>\n",
       "      <td>0.236559</td>\n",
       "      <td>0</td>\n",
       "      <td>0</td>\n",
       "      <td>0</td>\n",
       "      <td>0</td>\n",
       "      <td>0</td>\n",
       "      <td>0</td>\n",
       "      <td>0</td>\n",
       "      <td>0</td>\n",
       "      <td>0</td>\n",
       "      <td>...</td>\n",
       "      <td>0.188679</td>\n",
       "      <td>1</td>\n",
       "      <td>0.237209</td>\n",
       "      <td>0</td>\n",
       "      <td>0.000000</td>\n",
       "      <td>0</td>\n",
       "      <td>0.000000</td>\n",
       "      <td>0</td>\n",
       "      <td>0.0</td>\n",
       "      <td>2</td>\n",
       "    </tr>\n",
       "    <tr>\n",
       "      <th>2</th>\n",
       "      <td>0.483871</td>\n",
       "      <td>1</td>\n",
       "      <td>0</td>\n",
       "      <td>0</td>\n",
       "      <td>0</td>\n",
       "      <td>0</td>\n",
       "      <td>0</td>\n",
       "      <td>0</td>\n",
       "      <td>0</td>\n",
       "      <td>0</td>\n",
       "      <td>...</td>\n",
       "      <td>0.000000</td>\n",
       "      <td>1</td>\n",
       "      <td>0.253488</td>\n",
       "      <td>1</td>\n",
       "      <td>0.392241</td>\n",
       "      <td>1</td>\n",
       "      <td>0.303797</td>\n",
       "      <td>0</td>\n",
       "      <td>0.0</td>\n",
       "      <td>2</td>\n",
       "    </tr>\n",
       "    <tr>\n",
       "      <th>3</th>\n",
       "      <td>0.741935</td>\n",
       "      <td>0</td>\n",
       "      <td>1</td>\n",
       "      <td>0</td>\n",
       "      <td>0</td>\n",
       "      <td>0</td>\n",
       "      <td>0</td>\n",
       "      <td>0</td>\n",
       "      <td>0</td>\n",
       "      <td>0</td>\n",
       "      <td>...</td>\n",
       "      <td>0.179245</td>\n",
       "      <td>1</td>\n",
       "      <td>0.406977</td>\n",
       "      <td>0</td>\n",
       "      <td>0.000000</td>\n",
       "      <td>0</td>\n",
       "      <td>0.000000</td>\n",
       "      <td>0</td>\n",
       "      <td>0.0</td>\n",
       "      <td>2</td>\n",
       "    </tr>\n",
       "    <tr>\n",
       "      <th>4</th>\n",
       "      <td>0.741935</td>\n",
       "      <td>0</td>\n",
       "      <td>0</td>\n",
       "      <td>0</td>\n",
       "      <td>0</td>\n",
       "      <td>0</td>\n",
       "      <td>0</td>\n",
       "      <td>0</td>\n",
       "      <td>0</td>\n",
       "      <td>0</td>\n",
       "      <td>...</td>\n",
       "      <td>0.113208</td>\n",
       "      <td>1</td>\n",
       "      <td>0.141860</td>\n",
       "      <td>1</td>\n",
       "      <td>0.375000</td>\n",
       "      <td>1</td>\n",
       "      <td>0.177215</td>\n",
       "      <td>0</td>\n",
       "      <td>0.0</td>\n",
       "      <td>2</td>\n",
       "    </tr>\n",
       "  </tbody>\n",
       "</table>\n",
       "<p>5 rows × 29 columns</p>\n",
       "</div>"
      ],
      "text/plain": [
       "        age  sex  on thyroxine  query on thyroxine  on antithyroid medication  \\\n",
       "0  0.430108    0             0                   0                          0   \n",
       "1  0.236559    0             0                   0                          0   \n",
       "2  0.483871    1             0                   0                          0   \n",
       "3  0.741935    0             1                   0                          0   \n",
       "4  0.741935    0             0                   0                          0   \n",
       "\n",
       "   sick  pregnant  thyroid surgery  I131 treatment  query hypothyroid  ...  \\\n",
       "0     0         0                0               0                  0  ...   \n",
       "1     0         0                0               0                  0  ...   \n",
       "2     0         0                0               0                  0  ...   \n",
       "3     0         0                0               0                  0  ...   \n",
       "4     0         0                0               0                  0  ...   \n",
       "\n",
       "         T3  TT4 measured       TT4  T4U measured       T4U  FTI measured  \\\n",
       "0  0.235849             1  0.290698             1  0.491379             1   \n",
       "1  0.188679             1  0.237209             0  0.000000             0   \n",
       "2  0.000000             1  0.253488             1  0.392241             1   \n",
       "3  0.179245             1  0.406977             0  0.000000             0   \n",
       "4  0.113208             1  0.141860             1  0.375000             1   \n",
       "\n",
       "        FTI  TBG measured  TBG  Classes  \n",
       "0  0.275949             0  0.0        2  \n",
       "1  0.000000             0  0.0        2  \n",
       "2  0.303797             0  0.0        2  \n",
       "3  0.000000             0  0.0        2  \n",
       "4  0.177215             0  0.0        2  \n",
       "\n",
       "[5 rows x 29 columns]"
      ]
     },
     "execution_count": 4,
     "metadata": {},
     "output_type": "execute_result"
    }
   ],
   "source": [
    "data.head()"
   ]
  },
  {
   "cell_type": "markdown",
   "id": "36497d68-bbc8-445d-8d25-39786e7f9f3b",
   "metadata": {},
   "source": [
    "### Split Data into X and y"
   ]
  },
  {
   "cell_type": "code",
   "execution_count": 5,
   "id": "d5bf8261-f3f9-4185-b830-dcf07a2074e6",
   "metadata": {},
   "outputs": [],
   "source": [
    "X = data.drop(columns='Classes')\n",
    "y = data['Classes']"
   ]
  },
  {
   "cell_type": "code",
   "execution_count": 12,
   "id": "f048feb1-2270-4f96-b351-0786fedca8a1",
   "metadata": {},
   "outputs": [
    {
     "data": {
      "text/plain": [
       "2    3608\n",
       "1     149\n",
       "0      14\n",
       "Name: Classes, dtype: int64"
      ]
     },
     "execution_count": 12,
     "metadata": {},
     "output_type": "execute_result"
    }
   ],
   "source": [
    "\"\"\"     Negative(2)           3609\n",
    "        Hypothyroidism (1)     149\n",
    "        Hyperthyroidism (0)     14 \"\"\"\n",
    "\n",
    "data['Classes'].value_counts()\n",
    "\n"
   ]
  },
  {
   "cell_type": "code",
   "execution_count": 13,
   "id": "3da0c49d-4193-4147-b844-66d73167aa9e",
   "metadata": {},
   "outputs": [
    {
     "data": {
      "text/plain": [
       "(3771, 28)"
      ]
     },
     "execution_count": 13,
     "metadata": {},
     "output_type": "execute_result"
    }
   ],
   "source": [
    "X.shape"
   ]
  },
  {
   "cell_type": "code",
   "execution_count": 14,
   "id": "12e247ca-d75a-4044-84bb-6354dc98e553",
   "metadata": {},
   "outputs": [
    {
     "data": {
      "text/plain": [
       "(3771,)"
      ]
     },
     "execution_count": 14,
     "metadata": {},
     "output_type": "execute_result"
    }
   ],
   "source": [
    "y.shape"
   ]
  },
  {
   "cell_type": "code",
   "execution_count": null,
   "id": "05f33f94-17e3-4855-bd45-3d7cffb98f13",
   "metadata": {},
   "outputs": [],
   "source": [
    "# Sci-Kit Learn Libary\n",
    "\n"
   ]
  }
 ],
 "metadata": {
  "kernelspec": {
   "display_name": "Python 3 (ipykernel)",
   "language": "python",
   "name": "python3"
  },
  "language_info": {
   "codemirror_mode": {
    "name": "ipython",
    "version": 3
   },
   "file_extension": ".py",
   "mimetype": "text/x-python",
   "name": "python",
   "nbconvert_exporter": "python",
   "pygments_lexer": "ipython3",
   "version": "3.9.12"
  },
  "widgets": {
   "application/vnd.jupyter.widget-state+json": {
    "state": {},
    "version_major": 2,
    "version_minor": 0
   }
  }
 },
 "nbformat": 4,
 "nbformat_minor": 5
}
