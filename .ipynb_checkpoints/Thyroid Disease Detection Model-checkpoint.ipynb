{
 "cells": [
  {
   "cell_type": "markdown",
   "id": "f73f52eb-1bfb-4913-b5b1-39b00d760cbe",
   "metadata": {},
   "source": [
    "<h5 style =\"color: #fb8500;font-size:25px; font-style:bold; text-decoration: underline;\"> Model Creation </h5>\n",
    " "
   ]
  },
  {
   "cell_type": "code",
   "execution_count": 1,
   "id": "98eddf28-9844-4550-93a5-6b397c8b3d0d",
   "metadata": {},
   "outputs": [],
   "source": [
    "import pandas as pd"
   ]
  },
  {
   "cell_type": "code",
   "execution_count": 2,
   "id": "75c4ead9-0de1-4332-a288-fd5fce0d4fcf",
   "metadata": {},
   "outputs": [],
   "source": [
    "data = pd.read_csv('Data/ML_Thyroid Detection data.csv')"
   ]
  },
  {
   "cell_type": "code",
   "execution_count": 3,
   "id": "110fbc57-2d70-4706-b4a8-9326c4d99dce",
   "metadata": {},
   "outputs": [
    {
     "data": {
      "text/html": [
       "<div>\n",
       "<style scoped>\n",
       "    .dataframe tbody tr th:only-of-type {\n",
       "        vertical-align: middle;\n",
       "    }\n",
       "\n",
       "    .dataframe tbody tr th {\n",
       "        vertical-align: top;\n",
       "    }\n",
       "\n",
       "    .dataframe thead th {\n",
       "        text-align: right;\n",
       "    }\n",
       "</style>\n",
       "<table border=\"1\" class=\"dataframe\">\n",
       "  <thead>\n",
       "    <tr style=\"text-align: right;\">\n",
       "      <th></th>\n",
       "      <th>age</th>\n",
       "      <th>sex</th>\n",
       "      <th>TSH measured</th>\n",
       "      <th>TSH</th>\n",
       "      <th>T3 measured</th>\n",
       "      <th>T3</th>\n",
       "      <th>TT4 measured</th>\n",
       "      <th>TT4</th>\n",
       "      <th>T4U measured</th>\n",
       "      <th>T4U</th>\n",
       "      <th>FTI measured</th>\n",
       "      <th>FTI</th>\n",
       "      <th>Classes</th>\n",
       "    </tr>\n",
       "  </thead>\n",
       "  <tbody>\n",
       "    <tr>\n",
       "      <th>0</th>\n",
       "      <td>0.430108</td>\n",
       "      <td>0</td>\n",
       "      <td>1</td>\n",
       "      <td>0.002453</td>\n",
       "      <td>1</td>\n",
       "      <td>0.235849</td>\n",
       "      <td>1</td>\n",
       "      <td>0.290698</td>\n",
       "      <td>1</td>\n",
       "      <td>0.491379</td>\n",
       "      <td>1</td>\n",
       "      <td>0.275949</td>\n",
       "      <td>2</td>\n",
       "    </tr>\n",
       "    <tr>\n",
       "      <th>1</th>\n",
       "      <td>0.236559</td>\n",
       "      <td>0</td>\n",
       "      <td>1</td>\n",
       "      <td>0.007736</td>\n",
       "      <td>1</td>\n",
       "      <td>0.188679</td>\n",
       "      <td>1</td>\n",
       "      <td>0.237209</td>\n",
       "      <td>0</td>\n",
       "      <td>0.000000</td>\n",
       "      <td>0</td>\n",
       "      <td>0.000000</td>\n",
       "      <td>2</td>\n",
       "    </tr>\n",
       "    <tr>\n",
       "      <th>2</th>\n",
       "      <td>0.483871</td>\n",
       "      <td>1</td>\n",
       "      <td>1</td>\n",
       "      <td>0.001849</td>\n",
       "      <td>0</td>\n",
       "      <td>0.000000</td>\n",
       "      <td>1</td>\n",
       "      <td>0.253488</td>\n",
       "      <td>1</td>\n",
       "      <td>0.392241</td>\n",
       "      <td>1</td>\n",
       "      <td>0.303797</td>\n",
       "      <td>2</td>\n",
       "    </tr>\n",
       "    <tr>\n",
       "      <th>3</th>\n",
       "      <td>0.741935</td>\n",
       "      <td>0</td>\n",
       "      <td>1</td>\n",
       "      <td>0.000302</td>\n",
       "      <td>1</td>\n",
       "      <td>0.179245</td>\n",
       "      <td>1</td>\n",
       "      <td>0.406977</td>\n",
       "      <td>0</td>\n",
       "      <td>0.000000</td>\n",
       "      <td>0</td>\n",
       "      <td>0.000000</td>\n",
       "      <td>2</td>\n",
       "    </tr>\n",
       "    <tr>\n",
       "      <th>4</th>\n",
       "      <td>0.741935</td>\n",
       "      <td>0</td>\n",
       "      <td>1</td>\n",
       "      <td>0.001358</td>\n",
       "      <td>1</td>\n",
       "      <td>0.113208</td>\n",
       "      <td>1</td>\n",
       "      <td>0.141860</td>\n",
       "      <td>1</td>\n",
       "      <td>0.375000</td>\n",
       "      <td>1</td>\n",
       "      <td>0.177215</td>\n",
       "      <td>2</td>\n",
       "    </tr>\n",
       "  </tbody>\n",
       "</table>\n",
       "</div>"
      ],
      "text/plain": [
       "        age  sex  TSH measured       TSH  T3 measured        T3  TT4 measured  \\\n",
       "0  0.430108    0             1  0.002453            1  0.235849             1   \n",
       "1  0.236559    0             1  0.007736            1  0.188679             1   \n",
       "2  0.483871    1             1  0.001849            0  0.000000             1   \n",
       "3  0.741935    0             1  0.000302            1  0.179245             1   \n",
       "4  0.741935    0             1  0.001358            1  0.113208             1   \n",
       "\n",
       "        TT4  T4U measured       T4U  FTI measured       FTI  Classes  \n",
       "0  0.290698             1  0.491379             1  0.275949        2  \n",
       "1  0.237209             0  0.000000             0  0.000000        2  \n",
       "2  0.253488             1  0.392241             1  0.303797        2  \n",
       "3  0.406977             0  0.000000             0  0.000000        2  \n",
       "4  0.141860             1  0.375000             1  0.177215        2  "
      ]
     },
     "execution_count": 3,
     "metadata": {},
     "output_type": "execute_result"
    }
   ],
   "source": [
    "data.head()"
   ]
  },
  {
   "cell_type": "code",
   "execution_count": 4,
   "id": "154a85ec-da5b-4980-ad8d-f38aeffa78b9",
   "metadata": {},
   "outputs": [
    {
     "data": {
      "text/html": [
       "<div>\n",
       "<style scoped>\n",
       "    .dataframe tbody tr th:only-of-type {\n",
       "        vertical-align: middle;\n",
       "    }\n",
       "\n",
       "    .dataframe tbody tr th {\n",
       "        vertical-align: top;\n",
       "    }\n",
       "\n",
       "    .dataframe thead th {\n",
       "        text-align: right;\n",
       "    }\n",
       "</style>\n",
       "<table border=\"1\" class=\"dataframe\">\n",
       "  <thead>\n",
       "    <tr style=\"text-align: right;\">\n",
       "      <th></th>\n",
       "      <th>age</th>\n",
       "      <th>sex</th>\n",
       "      <th>TSH_measured</th>\n",
       "      <th>TSH</th>\n",
       "      <th>T3_measured</th>\n",
       "      <th>T3</th>\n",
       "      <th>TT4_measured</th>\n",
       "      <th>TT4</th>\n",
       "      <th>T4U_measured</th>\n",
       "      <th>T4U</th>\n",
       "      <th>FTI_measured</th>\n",
       "      <th>FTI</th>\n",
       "      <th>Classes</th>\n",
       "    </tr>\n",
       "  </thead>\n",
       "  <tbody>\n",
       "    <tr>\n",
       "      <th>0</th>\n",
       "      <td>0.430108</td>\n",
       "      <td>0</td>\n",
       "      <td>1</td>\n",
       "      <td>0.002453</td>\n",
       "      <td>1</td>\n",
       "      <td>0.235849</td>\n",
       "      <td>1</td>\n",
       "      <td>0.290698</td>\n",
       "      <td>1</td>\n",
       "      <td>0.491379</td>\n",
       "      <td>1</td>\n",
       "      <td>0.275949</td>\n",
       "      <td>2</td>\n",
       "    </tr>\n",
       "    <tr>\n",
       "      <th>1</th>\n",
       "      <td>0.236559</td>\n",
       "      <td>0</td>\n",
       "      <td>1</td>\n",
       "      <td>0.007736</td>\n",
       "      <td>1</td>\n",
       "      <td>0.188679</td>\n",
       "      <td>1</td>\n",
       "      <td>0.237209</td>\n",
       "      <td>0</td>\n",
       "      <td>0.000000</td>\n",
       "      <td>0</td>\n",
       "      <td>0.000000</td>\n",
       "      <td>2</td>\n",
       "    </tr>\n",
       "    <tr>\n",
       "      <th>2</th>\n",
       "      <td>0.483871</td>\n",
       "      <td>1</td>\n",
       "      <td>1</td>\n",
       "      <td>0.001849</td>\n",
       "      <td>0</td>\n",
       "      <td>0.000000</td>\n",
       "      <td>1</td>\n",
       "      <td>0.253488</td>\n",
       "      <td>1</td>\n",
       "      <td>0.392241</td>\n",
       "      <td>1</td>\n",
       "      <td>0.303797</td>\n",
       "      <td>2</td>\n",
       "    </tr>\n",
       "    <tr>\n",
       "      <th>3</th>\n",
       "      <td>0.741935</td>\n",
       "      <td>0</td>\n",
       "      <td>1</td>\n",
       "      <td>0.000302</td>\n",
       "      <td>1</td>\n",
       "      <td>0.179245</td>\n",
       "      <td>1</td>\n",
       "      <td>0.406977</td>\n",
       "      <td>0</td>\n",
       "      <td>0.000000</td>\n",
       "      <td>0</td>\n",
       "      <td>0.000000</td>\n",
       "      <td>2</td>\n",
       "    </tr>\n",
       "    <tr>\n",
       "      <th>4</th>\n",
       "      <td>0.741935</td>\n",
       "      <td>0</td>\n",
       "      <td>1</td>\n",
       "      <td>0.001358</td>\n",
       "      <td>1</td>\n",
       "      <td>0.113208</td>\n",
       "      <td>1</td>\n",
       "      <td>0.141860</td>\n",
       "      <td>1</td>\n",
       "      <td>0.375000</td>\n",
       "      <td>1</td>\n",
       "      <td>0.177215</td>\n",
       "      <td>2</td>\n",
       "    </tr>\n",
       "  </tbody>\n",
       "</table>\n",
       "</div>"
      ],
      "text/plain": [
       "        age  sex  TSH_measured       TSH  T3_measured        T3  TT4_measured  \\\n",
       "0  0.430108    0             1  0.002453            1  0.235849             1   \n",
       "1  0.236559    0             1  0.007736            1  0.188679             1   \n",
       "2  0.483871    1             1  0.001849            0  0.000000             1   \n",
       "3  0.741935    0             1  0.000302            1  0.179245             1   \n",
       "4  0.741935    0             1  0.001358            1  0.113208             1   \n",
       "\n",
       "        TT4  T4U_measured       T4U  FTI_measured       FTI  Classes  \n",
       "0  0.290698             1  0.491379             1  0.275949        2  \n",
       "1  0.237209             0  0.000000             0  0.000000        2  \n",
       "2  0.253488             1  0.392241             1  0.303797        2  \n",
       "3  0.406977             0  0.000000             0  0.000000        2  \n",
       "4  0.141860             1  0.375000             1  0.177215        2  "
      ]
     },
     "execution_count": 4,
     "metadata": {},
     "output_type": "execute_result"
    }
   ],
   "source": [
    "data.rename(columns={\"TSH measured\":\"TSH_measured\",\"T3 measured\":\"T3_measured\",\"TT4 measured\":\"TT4_measured\",\"T4U measured\":\"T4U_measured\",\"FTI measured\":\"FTI_measured\"},inplace=True)\n",
    "data.head()"
   ]
  },
  {
   "cell_type": "markdown",
   "id": "36497d68-bbc8-445d-8d25-39786e7f9f3b",
   "metadata": {},
   "source": [
    "### Split Data into X and y"
   ]
  },
  {
   "cell_type": "code",
   "execution_count": 5,
   "id": "d5bf8261-f3f9-4185-b830-dcf07a2074e6",
   "metadata": {},
   "outputs": [],
   "source": [
    "X = data.drop(columns='Classes')\n",
    "y = data['Classes']"
   ]
  },
  {
   "cell_type": "code",
   "execution_count": 6,
   "id": "f048feb1-2270-4f96-b351-0786fedca8a1",
   "metadata": {},
   "outputs": [
    {
     "data": {
      "text/plain": [
       "2    3608\n",
       "1     149\n",
       "0      14\n",
       "Name: Classes, dtype: int64"
      ]
     },
     "execution_count": 6,
     "metadata": {},
     "output_type": "execute_result"
    }
   ],
   "source": [
    "\"\"\"     Negative(2)           3609\n",
    "        Hypothyroidism (1)     149\n",
    "        Hyperthyroidism (0)     14 \"\"\"\n",
    "\n",
    "data['Classes'].value_counts()\n",
    "\n"
   ]
  },
  {
   "cell_type": "code",
   "execution_count": 7,
   "id": "436222f3",
   "metadata": {},
   "outputs": [
    {
     "data": {
      "text/html": [
       "<div>\n",
       "<style scoped>\n",
       "    .dataframe tbody tr th:only-of-type {\n",
       "        vertical-align: middle;\n",
       "    }\n",
       "\n",
       "    .dataframe tbody tr th {\n",
       "        vertical-align: top;\n",
       "    }\n",
       "\n",
       "    .dataframe thead th {\n",
       "        text-align: right;\n",
       "    }\n",
       "</style>\n",
       "<table border=\"1\" class=\"dataframe\">\n",
       "  <thead>\n",
       "    <tr style=\"text-align: right;\">\n",
       "      <th></th>\n",
       "      <th>age</th>\n",
       "      <th>sex</th>\n",
       "      <th>TSH_measured</th>\n",
       "      <th>TSH</th>\n",
       "      <th>T3_measured</th>\n",
       "      <th>T3</th>\n",
       "      <th>TT4_measured</th>\n",
       "      <th>TT4</th>\n",
       "      <th>T4U_measured</th>\n",
       "      <th>T4U</th>\n",
       "      <th>FTI_measured</th>\n",
       "      <th>FTI</th>\n",
       "    </tr>\n",
       "  </thead>\n",
       "  <tbody>\n",
       "    <tr>\n",
       "      <th>0</th>\n",
       "      <td>0.430108</td>\n",
       "      <td>0</td>\n",
       "      <td>1</td>\n",
       "      <td>0.002453</td>\n",
       "      <td>1</td>\n",
       "      <td>0.235849</td>\n",
       "      <td>1</td>\n",
       "      <td>0.290698</td>\n",
       "      <td>1</td>\n",
       "      <td>0.491379</td>\n",
       "      <td>1</td>\n",
       "      <td>0.275949</td>\n",
       "    </tr>\n",
       "    <tr>\n",
       "      <th>1</th>\n",
       "      <td>0.236559</td>\n",
       "      <td>0</td>\n",
       "      <td>1</td>\n",
       "      <td>0.007736</td>\n",
       "      <td>1</td>\n",
       "      <td>0.188679</td>\n",
       "      <td>1</td>\n",
       "      <td>0.237209</td>\n",
       "      <td>0</td>\n",
       "      <td>0.000000</td>\n",
       "      <td>0</td>\n",
       "      <td>0.000000</td>\n",
       "    </tr>\n",
       "    <tr>\n",
       "      <th>2</th>\n",
       "      <td>0.483871</td>\n",
       "      <td>1</td>\n",
       "      <td>1</td>\n",
       "      <td>0.001849</td>\n",
       "      <td>0</td>\n",
       "      <td>0.000000</td>\n",
       "      <td>1</td>\n",
       "      <td>0.253488</td>\n",
       "      <td>1</td>\n",
       "      <td>0.392241</td>\n",
       "      <td>1</td>\n",
       "      <td>0.303797</td>\n",
       "    </tr>\n",
       "    <tr>\n",
       "      <th>3</th>\n",
       "      <td>0.741935</td>\n",
       "      <td>0</td>\n",
       "      <td>1</td>\n",
       "      <td>0.000302</td>\n",
       "      <td>1</td>\n",
       "      <td>0.179245</td>\n",
       "      <td>1</td>\n",
       "      <td>0.406977</td>\n",
       "      <td>0</td>\n",
       "      <td>0.000000</td>\n",
       "      <td>0</td>\n",
       "      <td>0.000000</td>\n",
       "    </tr>\n",
       "    <tr>\n",
       "      <th>4</th>\n",
       "      <td>0.741935</td>\n",
       "      <td>0</td>\n",
       "      <td>1</td>\n",
       "      <td>0.001358</td>\n",
       "      <td>1</td>\n",
       "      <td>0.113208</td>\n",
       "      <td>1</td>\n",
       "      <td>0.141860</td>\n",
       "      <td>1</td>\n",
       "      <td>0.375000</td>\n",
       "      <td>1</td>\n",
       "      <td>0.177215</td>\n",
       "    </tr>\n",
       "    <tr>\n",
       "      <th>...</th>\n",
       "      <td>...</td>\n",
       "      <td>...</td>\n",
       "      <td>...</td>\n",
       "      <td>...</td>\n",
       "      <td>...</td>\n",
       "      <td>...</td>\n",
       "      <td>...</td>\n",
       "      <td>...</td>\n",
       "      <td>...</td>\n",
       "      <td>...</td>\n",
       "      <td>...</td>\n",
       "      <td>...</td>\n",
       "    </tr>\n",
       "    <tr>\n",
       "      <th>3766</th>\n",
       "      <td>0.311828</td>\n",
       "      <td>0</td>\n",
       "      <td>0</td>\n",
       "      <td>0.000000</td>\n",
       "      <td>0</td>\n",
       "      <td>0.000000</td>\n",
       "      <td>0</td>\n",
       "      <td>0.000000</td>\n",
       "      <td>0</td>\n",
       "      <td>0.000000</td>\n",
       "      <td>0</td>\n",
       "      <td>0.000000</td>\n",
       "    </tr>\n",
       "    <tr>\n",
       "      <th>3767</th>\n",
       "      <td>0.720430</td>\n",
       "      <td>0</td>\n",
       "      <td>1</td>\n",
       "      <td>0.001887</td>\n",
       "      <td>1</td>\n",
       "      <td>0.198113</td>\n",
       "      <td>1</td>\n",
       "      <td>0.288372</td>\n",
       "      <td>1</td>\n",
       "      <td>0.465517</td>\n",
       "      <td>1</td>\n",
       "      <td>0.288608</td>\n",
       "    </tr>\n",
       "    <tr>\n",
       "      <th>3768</th>\n",
       "      <td>0.784946</td>\n",
       "      <td>0</td>\n",
       "      <td>1</td>\n",
       "      <td>0.009623</td>\n",
       "      <td>1</td>\n",
       "      <td>0.169811</td>\n",
       "      <td>1</td>\n",
       "      <td>0.260465</td>\n",
       "      <td>1</td>\n",
       "      <td>0.461207</td>\n",
       "      <td>1</td>\n",
       "      <td>0.265823</td>\n",
       "    </tr>\n",
       "    <tr>\n",
       "      <th>3769</th>\n",
       "      <td>0.763441</td>\n",
       "      <td>1</td>\n",
       "      <td>1</td>\n",
       "      <td>0.001321</td>\n",
       "      <td>1</td>\n",
       "      <td>0.188679</td>\n",
       "      <td>1</td>\n",
       "      <td>0.190698</td>\n",
       "      <td>1</td>\n",
       "      <td>0.405172</td>\n",
       "      <td>1</td>\n",
       "      <td>0.220253</td>\n",
       "    </tr>\n",
       "    <tr>\n",
       "      <th>3770</th>\n",
       "      <td>0.677419</td>\n",
       "      <td>0</td>\n",
       "      <td>1</td>\n",
       "      <td>0.001887</td>\n",
       "      <td>1</td>\n",
       "      <td>0.207547</td>\n",
       "      <td>1</td>\n",
       "      <td>0.230233</td>\n",
       "      <td>1</td>\n",
       "      <td>0.461207</td>\n",
       "      <td>1</td>\n",
       "      <td>0.232911</td>\n",
       "    </tr>\n",
       "  </tbody>\n",
       "</table>\n",
       "<p>3771 rows × 12 columns</p>\n",
       "</div>"
      ],
      "text/plain": [
       "           age  sex  TSH_measured       TSH  T3_measured        T3  \\\n",
       "0     0.430108    0             1  0.002453            1  0.235849   \n",
       "1     0.236559    0             1  0.007736            1  0.188679   \n",
       "2     0.483871    1             1  0.001849            0  0.000000   \n",
       "3     0.741935    0             1  0.000302            1  0.179245   \n",
       "4     0.741935    0             1  0.001358            1  0.113208   \n",
       "...        ...  ...           ...       ...          ...       ...   \n",
       "3766  0.311828    0             0  0.000000            0  0.000000   \n",
       "3767  0.720430    0             1  0.001887            1  0.198113   \n",
       "3768  0.784946    0             1  0.009623            1  0.169811   \n",
       "3769  0.763441    1             1  0.001321            1  0.188679   \n",
       "3770  0.677419    0             1  0.001887            1  0.207547   \n",
       "\n",
       "      TT4_measured       TT4  T4U_measured       T4U  FTI_measured       FTI  \n",
       "0                1  0.290698             1  0.491379             1  0.275949  \n",
       "1                1  0.237209             0  0.000000             0  0.000000  \n",
       "2                1  0.253488             1  0.392241             1  0.303797  \n",
       "3                1  0.406977             0  0.000000             0  0.000000  \n",
       "4                1  0.141860             1  0.375000             1  0.177215  \n",
       "...            ...       ...           ...       ...           ...       ...  \n",
       "3766             0  0.000000             0  0.000000             0  0.000000  \n",
       "3767             1  0.288372             1  0.465517             1  0.288608  \n",
       "3768             1  0.260465             1  0.461207             1  0.265823  \n",
       "3769             1  0.190698             1  0.405172             1  0.220253  \n",
       "3770             1  0.230233             1  0.461207             1  0.232911  \n",
       "\n",
       "[3771 rows x 12 columns]"
      ]
     },
     "execution_count": 7,
     "metadata": {},
     "output_type": "execute_result"
    }
   ],
   "source": [
    "X"
   ]
  },
  {
   "cell_type": "code",
   "execution_count": 8,
   "id": "3da0c49d-4193-4147-b844-66d73167aa9e",
   "metadata": {},
   "outputs": [
    {
     "data": {
      "text/plain": [
       "(3771, 12)"
      ]
     },
     "execution_count": 8,
     "metadata": {},
     "output_type": "execute_result"
    }
   ],
   "source": [
    "X.shape"
   ]
  },
  {
   "cell_type": "code",
   "execution_count": 9,
   "id": "c9ecd7db-0373-4308-a34b-15f351b96ffb",
   "metadata": {},
   "outputs": [
    {
     "data": {
      "text/plain": [
       "Index(['age', 'sex', 'TSH_measured', 'TSH', 'T3_measured', 'T3',\n",
       "       'TT4_measured', 'TT4', 'T4U_measured', 'T4U', 'FTI_measured', 'FTI'],\n",
       "      dtype='object')"
      ]
     },
     "execution_count": 9,
     "metadata": {},
     "output_type": "execute_result"
    }
   ],
   "source": [
    "X.columns"
   ]
  },
  {
   "cell_type": "code",
   "execution_count": 10,
   "id": "12e247ca-d75a-4044-84bb-6354dc98e553",
   "metadata": {},
   "outputs": [
    {
     "data": {
      "text/plain": [
       "(3771,)"
      ]
     },
     "execution_count": 10,
     "metadata": {},
     "output_type": "execute_result"
    }
   ],
   "source": [
    "y.shape"
   ]
  },
  {
   "cell_type": "code",
   "execution_count": 16,
   "id": "50f1f28f-5b21-45fa-a9a6-235345f7bd6c",
   "metadata": {},
   "outputs": [],
   "source": [
    "from sklearn.model_selection import train_test_split\n",
    "\n",
    "X_train,X_test,y_train,y_test = train_test_split(X,y,test_size=0.25)"
   ]
  },
  {
   "cell_type": "code",
   "execution_count": 17,
   "id": "05f33f94-17e3-4855-bd45-3d7cffb98f13",
   "metadata": {},
   "outputs": [
    {
     "name": "stdout",
     "output_type": "stream",
     "text": [
      "import Successfully\n"
     ]
    }
   ],
   "source": [
    "# Sci-Kit Learn Libary\n",
    "\n",
    "# Libaries for Model - Classifier\n",
    "\n",
    "from sklearn.linear_model import LogisticRegression\n",
    "from sklearn.tree import DecisionTreeClassifier\n",
    "from sklearn.svm import SVC\n",
    "from sklearn.neighbors import KNeighborsClassifier\n",
    "from sklearn.naive_bayes import BernoulliNB\n",
    "from sklearn.naive_bayes import MultinomialNB\n",
    "from sklearn.naive_bayes import GaussianNB\n",
    "from sklearn.ensemble import AdaBoostClassifier,GradientBoostingClassifier,RandomForestClassifier\n",
    "from xgboost import XGBClassifier\n",
    "\n",
    "print('import Successfully')\n"
   ]
  },
  {
   "cell_type": "markdown",
   "id": "6e6d2702-a59d-41a5-9b5f-f16a6af9b176",
   "metadata": {},
   "source": [
    "# Hyper-Parameter Tuning"
   ]
  },
  {
   "cell_type": "code",
   "execution_count": 18,
   "id": "dedaaa2c-9ee0-4a39-86f6-677ebb038f91",
   "metadata": {},
   "outputs": [],
   "source": [
    "model_parameter ={\n",
    "\n",
    "\"Logistic_Regression\" :{\n",
    "                        \"model\" : LogisticRegression(solver='liblinear'),\n",
    "                        \"param\" : {}\n",
    "                       },\n",
    "\n",
    "\"Decision_Tree\" :{\n",
    "                        \"model\" : DecisionTreeClassifier(),\n",
    "                        \"param\" : {'criterion' : [\"gini\", \"entropy\"]}\n",
    "                 },\n",
    "\n",
    "\"SVC\" : {\n",
    "                        \"model\" : SVC(),\n",
    "                        \"param\" : {'C' :[1.0],\n",
    "                                   'kernel' : ['linear', 'poly', 'rbf'],\n",
    "                                   'gamma': ['scale','auto']\n",
    "                                  }\n",
    "       },\n",
    "\n",
    "\"KNeighborsClassifier\" : {\n",
    "                        \"model\" : KNeighborsClassifier(),\n",
    "                        \"param\" : {'n_neighbors' : [4,5,6]}\n",
    "                        },\n",
    "\n",
    "\"BernoulliNB\" :  {\n",
    "                    \"model\" : BernoulliNB(),\n",
    "                    \"param\" : {}\n",
    "                 },\n",
    "\n",
    "\"MultinomialNB\" : {\n",
    "                    \"model\" : MultinomialNB(),\n",
    "                     \"param\" : {}\n",
    "                 },\n",
    "\n",
    " \"GaussianNB\" :{\n",
    "                    \"model\" : GaussianNB(),\n",
    "                    \"param\" : {}\n",
    "                },\n",
    "\n",
    "\"RandomForestClassifier\" :{\n",
    "                    \"model\" : RandomForestClassifier(),\n",
    "                    \"param\" : {'criterion' : [\"gini\", \"entropy\"],\n",
    "                            'n_estimators' : [85,100,110,105]\n",
    "                              }\n",
    "                      },\n",
    "\n",
    " \"AdaBoostClassifier\" :{\n",
    "                    \"model\" : AdaBoostClassifier(),\n",
    "                    \"param\" : {'n_estimators' : [10,50,100]}\n",
    "                      },\n",
    "\n",
    "\"GradientBoostingClassifier\" :{\n",
    "                    \"model\" : GradientBoostingClassifier(),\n",
    "                    \"param\" : {'n_estimators' : [10,50,100]}\n",
    "                      },\n",
    "\n",
    "\"XGBClassifier\" :{\n",
    "                    \"model\" : XGBClassifier(),\n",
    "                    \"param\" : {}\n",
    "}\n",
    "\n",
    "}"
   ]
  },
  {
   "cell_type": "code",
   "execution_count": 19,
   "id": "f9929013-849e-4bee-b84d-dfbc1c97ec3c",
   "metadata": {
    "tags": []
   },
   "outputs": [],
   "source": [
    "# Model Section \n",
    "from sklearn.model_selection import GridSearchCV\n",
    "Scores = []\n",
    "for model_name ,model_param in model_parameter.items():\n",
    "    gs = GridSearchCV(model_param['model'],model_param['param'],cv = 5,return_train_score=False)\n",
    "    gs.fit(X_train,y_train)\n",
    "    Scores.append({'Model': model_name,\n",
    "                 'Best_Score' : gs.best_score_,\n",
    "                 'Best_Parameter' : gs.best_params_})\n",
    "\n",
    "Model_Report = pd.DataFrame(Scores,columns=['Model','Best_Score','Best_Parameter'])\n"
   ]
  },
  {
   "cell_type": "code",
   "execution_count": 20,
   "id": "92dfbbb7-fc02-45a5-8cde-3d63786519d2",
   "metadata": {},
   "outputs": [
    {
     "data": {
      "text/html": [
       "<div>\n",
       "<style scoped>\n",
       "    .dataframe tbody tr th:only-of-type {\n",
       "        vertical-align: middle;\n",
       "    }\n",
       "\n",
       "    .dataframe tbody tr th {\n",
       "        vertical-align: top;\n",
       "    }\n",
       "\n",
       "    .dataframe thead th {\n",
       "        text-align: right;\n",
       "    }\n",
       "</style>\n",
       "<table border=\"1\" class=\"dataframe\">\n",
       "  <thead>\n",
       "    <tr style=\"text-align: right;\">\n",
       "      <th></th>\n",
       "      <th>Model</th>\n",
       "      <th>Best_Score</th>\n",
       "      <th>Best_Parameter</th>\n",
       "    </tr>\n",
       "  </thead>\n",
       "  <tbody>\n",
       "    <tr>\n",
       "      <th>10</th>\n",
       "      <td>XGBClassifier</td>\n",
       "      <td>0.976306</td>\n",
       "      <td>{}</td>\n",
       "    </tr>\n",
       "    <tr>\n",
       "      <th>9</th>\n",
       "      <td>GradientBoostingClassifier</td>\n",
       "      <td>0.974892</td>\n",
       "      <td>{'n_estimators': 100}</td>\n",
       "    </tr>\n",
       "    <tr>\n",
       "      <th>7</th>\n",
       "      <td>RandomForestClassifier</td>\n",
       "      <td>0.972773</td>\n",
       "      <td>{'criterion': 'entropy', 'n_estimators': 100}</td>\n",
       "    </tr>\n",
       "    <tr>\n",
       "      <th>3</th>\n",
       "      <td>KNeighborsClassifier</td>\n",
       "      <td>0.970648</td>\n",
       "      <td>{'n_neighbors': 6}</td>\n",
       "    </tr>\n",
       "    <tr>\n",
       "      <th>1</th>\n",
       "      <td>Decision_Tree</td>\n",
       "      <td>0.969591</td>\n",
       "      <td>{'criterion': 'entropy'}</td>\n",
       "    </tr>\n",
       "    <tr>\n",
       "      <th>2</th>\n",
       "      <td>SVC</td>\n",
       "      <td>0.967821</td>\n",
       "      <td>{'C': 1.0, 'gamma': 'scale', 'kernel': 'poly'}</td>\n",
       "    </tr>\n",
       "    <tr>\n",
       "      <th>0</th>\n",
       "      <td>Logistic_Regression</td>\n",
       "      <td>0.960041</td>\n",
       "      <td>{}</td>\n",
       "    </tr>\n",
       "    <tr>\n",
       "      <th>4</th>\n",
       "      <td>BernoulliNB</td>\n",
       "      <td>0.957567</td>\n",
       "      <td>{}</td>\n",
       "    </tr>\n",
       "    <tr>\n",
       "      <th>5</th>\n",
       "      <td>MultinomialNB</td>\n",
       "      <td>0.957567</td>\n",
       "      <td>{}</td>\n",
       "    </tr>\n",
       "    <tr>\n",
       "      <th>8</th>\n",
       "      <td>AdaBoostClassifier</td>\n",
       "      <td>0.951204</td>\n",
       "      <td>{'n_estimators': 10}</td>\n",
       "    </tr>\n",
       "    <tr>\n",
       "      <th>6</th>\n",
       "      <td>GaussianNB</td>\n",
       "      <td>0.188123</td>\n",
       "      <td>{}</td>\n",
       "    </tr>\n",
       "  </tbody>\n",
       "</table>\n",
       "</div>"
      ],
      "text/plain": [
       "                         Model  Best_Score  \\\n",
       "10               XGBClassifier    0.976306   \n",
       "9   GradientBoostingClassifier    0.974892   \n",
       "7       RandomForestClassifier    0.972773   \n",
       "3         KNeighborsClassifier    0.970648   \n",
       "1                Decision_Tree    0.969591   \n",
       "2                          SVC    0.967821   \n",
       "0          Logistic_Regression    0.960041   \n",
       "4                  BernoulliNB    0.957567   \n",
       "5                MultinomialNB    0.957567   \n",
       "8           AdaBoostClassifier    0.951204   \n",
       "6                   GaussianNB    0.188123   \n",
       "\n",
       "                                    Best_Parameter  \n",
       "10                                              {}  \n",
       "9                            {'n_estimators': 100}  \n",
       "7    {'criterion': 'entropy', 'n_estimators': 100}  \n",
       "3                               {'n_neighbors': 6}  \n",
       "1                         {'criterion': 'entropy'}  \n",
       "2   {'C': 1.0, 'gamma': 'scale', 'kernel': 'poly'}  \n",
       "0                                               {}  \n",
       "4                                               {}  \n",
       "5                                               {}  \n",
       "8                             {'n_estimators': 10}  \n",
       "6                                               {}  "
      ]
     },
     "execution_count": 20,
     "metadata": {},
     "output_type": "execute_result"
    }
   ],
   "source": [
    "Model_Report.sort_values(by='Best_Score',ascending=False)"
   ]
  },
  {
   "cell_type": "code",
   "execution_count": 21,
   "id": "e9c86fe5-f94c-4112-9af7-7b8462f83d73",
   "metadata": {},
   "outputs": [
    {
     "data": {
      "text/html": [
       "<style>#sk-container-id-1 {color: black;background-color: white;}#sk-container-id-1 pre{padding: 0;}#sk-container-id-1 div.sk-toggleable {background-color: white;}#sk-container-id-1 label.sk-toggleable__label {cursor: pointer;display: block;width: 100%;margin-bottom: 0;padding: 0.3em;box-sizing: border-box;text-align: center;}#sk-container-id-1 label.sk-toggleable__label-arrow:before {content: \"▸\";float: left;margin-right: 0.25em;color: #696969;}#sk-container-id-1 label.sk-toggleable__label-arrow:hover:before {color: black;}#sk-container-id-1 div.sk-estimator:hover label.sk-toggleable__label-arrow:before {color: black;}#sk-container-id-1 div.sk-toggleable__content {max-height: 0;max-width: 0;overflow: hidden;text-align: left;background-color: #f0f8ff;}#sk-container-id-1 div.sk-toggleable__content pre {margin: 0.2em;color: black;border-radius: 0.25em;background-color: #f0f8ff;}#sk-container-id-1 input.sk-toggleable__control:checked~div.sk-toggleable__content {max-height: 200px;max-width: 100%;overflow: auto;}#sk-container-id-1 input.sk-toggleable__control:checked~label.sk-toggleable__label-arrow:before {content: \"▾\";}#sk-container-id-1 div.sk-estimator input.sk-toggleable__control:checked~label.sk-toggleable__label {background-color: #d4ebff;}#sk-container-id-1 div.sk-label input.sk-toggleable__control:checked~label.sk-toggleable__label {background-color: #d4ebff;}#sk-container-id-1 input.sk-hidden--visually {border: 0;clip: rect(1px 1px 1px 1px);clip: rect(1px, 1px, 1px, 1px);height: 1px;margin: -1px;overflow: hidden;padding: 0;position: absolute;width: 1px;}#sk-container-id-1 div.sk-estimator {font-family: monospace;background-color: #f0f8ff;border: 1px dotted black;border-radius: 0.25em;box-sizing: border-box;margin-bottom: 0.5em;}#sk-container-id-1 div.sk-estimator:hover {background-color: #d4ebff;}#sk-container-id-1 div.sk-parallel-item::after {content: \"\";width: 100%;border-bottom: 1px solid gray;flex-grow: 1;}#sk-container-id-1 div.sk-label:hover label.sk-toggleable__label {background-color: #d4ebff;}#sk-container-id-1 div.sk-serial::before {content: \"\";position: absolute;border-left: 1px solid gray;box-sizing: border-box;top: 0;bottom: 0;left: 50%;z-index: 0;}#sk-container-id-1 div.sk-serial {display: flex;flex-direction: column;align-items: center;background-color: white;padding-right: 0.2em;padding-left: 0.2em;position: relative;}#sk-container-id-1 div.sk-item {position: relative;z-index: 1;}#sk-container-id-1 div.sk-parallel {display: flex;align-items: stretch;justify-content: center;background-color: white;position: relative;}#sk-container-id-1 div.sk-item::before, #sk-container-id-1 div.sk-parallel-item::before {content: \"\";position: absolute;border-left: 1px solid gray;box-sizing: border-box;top: 0;bottom: 0;left: 50%;z-index: -1;}#sk-container-id-1 div.sk-parallel-item {display: flex;flex-direction: column;z-index: 1;position: relative;background-color: white;}#sk-container-id-1 div.sk-parallel-item:first-child::after {align-self: flex-end;width: 50%;}#sk-container-id-1 div.sk-parallel-item:last-child::after {align-self: flex-start;width: 50%;}#sk-container-id-1 div.sk-parallel-item:only-child::after {width: 0;}#sk-container-id-1 div.sk-dashed-wrapped {border: 1px dashed gray;margin: 0 0.4em 0.5em 0.4em;box-sizing: border-box;padding-bottom: 0.4em;background-color: white;}#sk-container-id-1 div.sk-label label {font-family: monospace;font-weight: bold;display: inline-block;line-height: 1.2em;}#sk-container-id-1 div.sk-label-container {text-align: center;}#sk-container-id-1 div.sk-container {/* jupyter's `normalize.less` sets `[hidden] { display: none; }` but bootstrap.min.css set `[hidden] { display: none !important; }` so we also need the `!important` here to be able to override the default hidden behavior on the sphinx rendered scikit-learn.org. See: https://github.com/scikit-learn/scikit-learn/issues/21755 */display: inline-block !important;position: relative;}#sk-container-id-1 div.sk-text-repr-fallback {display: none;}</style><div id=\"sk-container-id-1\" class=\"sk-top-container\"><div class=\"sk-text-repr-fallback\"><pre>XGBClassifier(base_score=None, booster=None, callbacks=None,\n",
       "              colsample_bylevel=None, colsample_bynode=None,\n",
       "              colsample_bytree=None, early_stopping_rounds=None,\n",
       "              enable_categorical=False, eval_metric=None, gamma=None,\n",
       "              gpu_id=None, grow_policy=None, importance_type=None,\n",
       "              interaction_constraints=None, learning_rate=None, max_bin=None,\n",
       "              max_cat_to_onehot=None, max_delta_step=None, max_depth=None,\n",
       "              max_leaves=None, min_child_weight=None, missing=nan,\n",
       "              monotone_constraints=None, n_estimators=100, n_jobs=None,\n",
       "              num_parallel_tree=None, predictor=None, random_state=None,\n",
       "              reg_alpha=None, reg_lambda=None, ...)</pre><b>In a Jupyter environment, please rerun this cell to show the HTML representation or trust the notebook. <br />On GitHub, the HTML representation is unable to render, please try loading this page with nbviewer.org.</b></div><div class=\"sk-container\" hidden><div class=\"sk-item\"><div class=\"sk-estimator sk-toggleable\"><input class=\"sk-toggleable__control sk-hidden--visually\" id=\"sk-estimator-id-1\" type=\"checkbox\" checked><label for=\"sk-estimator-id-1\" class=\"sk-toggleable__label sk-toggleable__label-arrow\">XGBClassifier</label><div class=\"sk-toggleable__content\"><pre>XGBClassifier(base_score=None, booster=None, callbacks=None,\n",
       "              colsample_bylevel=None, colsample_bynode=None,\n",
       "              colsample_bytree=None, early_stopping_rounds=None,\n",
       "              enable_categorical=False, eval_metric=None, gamma=None,\n",
       "              gpu_id=None, grow_policy=None, importance_type=None,\n",
       "              interaction_constraints=None, learning_rate=None, max_bin=None,\n",
       "              max_cat_to_onehot=None, max_delta_step=None, max_depth=None,\n",
       "              max_leaves=None, min_child_weight=None, missing=nan,\n",
       "              monotone_constraints=None, n_estimators=100, n_jobs=None,\n",
       "              num_parallel_tree=None, predictor=None, random_state=None,\n",
       "              reg_alpha=None, reg_lambda=None, ...)</pre></div></div></div></div></div>"
      ],
      "text/plain": [
       "XGBClassifier(base_score=None, booster=None, callbacks=None,\n",
       "              colsample_bylevel=None, colsample_bynode=None,\n",
       "              colsample_bytree=None, early_stopping_rounds=None,\n",
       "              enable_categorical=False, eval_metric=None, gamma=None,\n",
       "              gpu_id=None, grow_policy=None, importance_type=None,\n",
       "              interaction_constraints=None, learning_rate=None, max_bin=None,\n",
       "              max_cat_to_onehot=None, max_delta_step=None, max_depth=None,\n",
       "              max_leaves=None, min_child_weight=None, missing=nan,\n",
       "              monotone_constraints=None, n_estimators=100, n_jobs=None,\n",
       "              num_parallel_tree=None, predictor=None, random_state=None,\n",
       "              reg_alpha=None, reg_lambda=None, ...)"
      ]
     },
     "execution_count": 21,
     "metadata": {},
     "output_type": "execute_result"
    }
   ],
   "source": [
    "gs.estimator"
   ]
  },
  {
   "cell_type": "code",
   "execution_count": 22,
   "id": "d0e064f3-41ea-4ee4-b1de-65ed6033df8c",
   "metadata": {},
   "outputs": [
    {
     "data": {
      "text/plain": [
       "0.9763057006160294"
      ]
     },
     "execution_count": 22,
     "metadata": {},
     "output_type": "execute_result"
    }
   ],
   "source": [
    "gs.best_score_"
   ]
  },
  {
   "cell_type": "code",
   "execution_count": 28,
   "id": "7deaa9d8-ded1-4ae3-91e9-23a1cb10ea72",
   "metadata": {},
   "outputs": [
    {
     "data": {
      "text/plain": [
       "2413    2\n",
       "628     2\n",
       "2912    2\n",
       "2009    2\n",
       "2830    2\n",
       "455     2\n",
       "505     2\n",
       "3394    2\n",
       "3120    2\n",
       "1672    2\n",
       "1720    1\n",
       "1561    2\n",
       "2371    2\n",
       "1242    1\n",
       "2385    2\n",
       "3756    2\n",
       "16      2\n",
       "2076    2\n",
       "3372    2\n",
       "1894    2\n",
       "1403    2\n",
       "527     2\n",
       "2224    2\n",
       "1096    2\n",
       "1808    2\n",
       "3310    2\n",
       "3542    2\n",
       "1223    2\n",
       "62      2\n",
       "2895    2\n",
       "3125    2\n",
       "1272    2\n",
       "2275    2\n",
       "2614    2\n",
       "397     1\n",
       "3297    2\n",
       "2708    2\n",
       "3036    2\n",
       "1198    2\n",
       "3265    2\n",
       "2101    2\n",
       "2062    2\n",
       "3447    1\n",
       "136     2\n",
       "2710    2\n",
       "3552    2\n",
       "3032    2\n",
       "596     2\n",
       "1892    2\n",
       "54      2\n",
       "Name: Classes, dtype: int64"
      ]
     },
     "execution_count": 28,
     "metadata": {},
     "output_type": "execute_result"
    }
   ],
   "source": [
    "y_test.tail(50)"
   ]
  },
  {
   "cell_type": "markdown",
   "id": "dc2b90d3-cf2c-4bdb-a0fd-35bf38b48aad",
   "metadata": {},
   "source": [
    "# Testing Model"
   ]
  },
  {
   "cell_type": "code",
   "execution_count": 29,
   "id": "f415dd6d-66da-4c31-bdcf-d368d63eb041",
   "metadata": {},
   "outputs": [
    {
     "data": {
      "text/plain": [
       "array([2, 2, 2, 2, 2, 2, 2, 2, 2, 2, 2, 2, 2, 2, 2, 1, 2, 2, 2, 2, 2, 2,\n",
       "       2, 1, 2, 2, 2, 2, 2, 2, 2, 2, 2, 2, 2, 2, 2, 2, 2, 2, 2, 2, 2, 2,\n",
       "       2, 2, 2, 2, 2, 2, 2, 2, 2, 2, 2, 2, 2, 1, 2, 2, 2, 2, 2, 2, 2, 2,\n",
       "       2, 2, 2, 2, 2, 2, 2, 2, 2, 2, 2, 2, 2, 2, 2, 2, 2, 1, 2, 2, 2, 2,\n",
       "       2, 2, 2, 2, 2, 2, 2, 2, 2, 2, 2, 2, 2, 2, 2, 2, 2, 2, 2, 2, 2, 2,\n",
       "       2, 2, 2, 2, 2, 2, 2, 2, 2, 2, 2, 2, 2, 2, 2, 2, 2, 2, 2, 2, 2, 2,\n",
       "       2, 2, 2, 2, 2, 2, 2, 1, 2, 2, 2, 2, 2, 2, 2, 1, 2, 2, 2, 2, 2, 2,\n",
       "       2, 2, 2, 2, 2, 2, 2, 2, 2, 2, 2, 2, 2, 2, 2, 2, 2, 2, 2, 2, 2, 2,\n",
       "       2, 2, 2, 2, 2, 2, 2, 2, 2, 2, 2, 2, 2, 2, 2, 2, 2, 2, 2, 2, 1, 2,\n",
       "       2, 2, 2, 2, 2, 2, 2, 2, 2, 2, 2, 2, 2, 2, 2, 2, 2, 2, 2, 2, 2, 2,\n",
       "       1, 2, 2, 2, 2, 2, 2, 2, 2, 2, 2, 2, 2, 2, 2, 2, 2, 2, 2, 2, 2, 2,\n",
       "       2, 1, 2, 2, 2, 2, 2, 2, 2, 2, 2, 2, 2, 2, 2, 2, 2, 2, 2, 2, 2, 2,\n",
       "       2, 2, 2, 2, 2, 2, 2, 2, 2, 2, 2, 2, 2, 2, 2, 2, 2, 2, 1, 2, 2, 2,\n",
       "       2, 2, 2, 2, 2, 2, 2, 2, 2, 2, 2, 2, 2, 2, 2, 2, 2, 2, 2, 2, 2, 2,\n",
       "       1, 2, 2, 2, 2, 2, 2, 2, 2, 2, 2, 2, 2, 2, 2, 2, 2, 2, 2, 2, 2, 2,\n",
       "       2, 2, 2, 2, 2, 2, 2, 2, 2, 2, 2, 2, 2, 2, 2, 2, 2, 2, 2, 2, 2, 2,\n",
       "       2, 2, 2, 2, 2, 2, 2, 2, 2, 2, 2, 2, 2, 2, 2, 2, 2, 2, 2, 2, 2, 2,\n",
       "       2, 2, 2, 2, 2, 2, 2, 2, 1, 2, 2, 2, 2, 2, 1, 2, 2, 2, 2, 2, 2, 2,\n",
       "       2, 2, 2, 2, 2, 2, 2, 2, 2, 2, 2, 2, 2, 2, 2, 2, 2, 1, 2, 2, 2, 2,\n",
       "       2, 2, 2, 2, 2, 2, 2, 2, 2, 2, 2, 2, 2, 2, 2, 2, 2, 2, 2, 2, 2, 2,\n",
       "       2, 2, 2, 2, 2, 2, 2, 2, 2, 2, 2, 2, 2, 2, 2, 2, 2, 2, 2, 2, 2, 2,\n",
       "       1, 2, 2, 2, 2, 2, 2, 2, 2, 2, 2, 2, 2, 2, 2, 2, 2, 2, 2, 2, 2, 2,\n",
       "       2, 2, 2, 2, 2, 2, 2, 2, 2, 2, 2, 2, 2, 2, 2, 2, 2, 2, 2, 1, 2, 2,\n",
       "       2, 2, 2, 2, 2, 2, 2, 2, 2, 2, 2, 2, 2, 2, 2, 2, 2, 2, 2, 2, 2, 2,\n",
       "       2, 2, 2, 2, 2, 2, 2, 2, 2, 2, 2, 2, 2, 2, 2, 2, 2, 2, 2, 2, 2, 2,\n",
       "       2, 2, 2, 2, 2, 2, 2, 1, 2, 2, 2, 2, 2, 2, 2, 2, 2, 2, 2, 2, 2, 1,\n",
       "       2, 2, 2, 2, 2, 2, 2, 2, 2, 2, 2, 2, 2, 2, 2, 2, 2, 2, 2, 2, 2, 1,\n",
       "       2, 1, 2, 2, 2, 2, 2, 2, 2, 2, 2, 2, 2, 2, 2, 2, 2, 2, 2, 2, 2, 2,\n",
       "       2, 2, 2, 2, 2, 2, 2, 2, 2, 2, 2, 2, 2, 2, 2, 2, 1, 2, 2, 2, 2, 2,\n",
       "       2, 2, 1, 2, 2, 2, 2, 2, 2, 2, 2, 2, 2, 2, 2, 2, 2, 2, 2, 2, 2, 2,\n",
       "       2, 2, 2, 2, 2, 2, 2, 2, 2, 2, 2, 2, 2, 2, 2, 2, 2, 2, 2, 2, 2, 2,\n",
       "       2, 2, 2, 2, 2, 2, 2, 2, 2, 2, 2, 2, 2, 2, 2, 2, 2, 2, 1, 2, 2, 2,\n",
       "       2, 2, 2, 2, 2, 2, 2, 2, 2, 2, 2, 2, 2, 2, 1, 2, 2, 2, 2, 2, 2, 2,\n",
       "       2, 2, 2, 2, 1, 2, 2, 2, 2, 2, 2, 2, 2, 2, 2, 2, 2, 2, 2, 2, 2, 2,\n",
       "       2, 2, 2, 2, 1, 2, 2, 2, 2, 2, 2, 2, 2, 2, 2, 2, 2, 2, 2, 2, 2, 2,\n",
       "       2, 2, 2, 2, 2, 2, 2, 2, 2, 2, 2, 2, 2, 2, 2, 2, 2, 2, 2, 1, 2, 2,\n",
       "       2, 2, 2, 2, 2, 2, 2, 2, 2, 2, 2, 2, 2, 2, 2, 2, 2, 1, 2, 2, 2, 2,\n",
       "       2, 2, 2, 2, 2, 2, 2, 2, 2, 2, 2, 2, 2, 2, 2, 2, 2, 2, 2, 2, 2, 2,\n",
       "       2, 2, 2, 2, 2, 2, 1, 2, 2, 2, 2, 2, 2, 2, 2, 2, 2, 2, 2, 2, 2, 2,\n",
       "       2, 2, 2, 2, 2, 2, 2, 2, 2, 2, 2, 1, 2, 2, 2, 2, 2, 1, 2, 2, 2, 2,\n",
       "       2, 2, 2, 2, 2, 2, 2, 2, 2, 2, 2, 2, 2, 2, 2, 2, 2, 2, 2, 2, 2, 2,\n",
       "       2, 1, 2, 2, 1, 2, 2, 2, 2, 2, 2, 2, 2, 2, 2, 2, 2, 2, 2, 2, 2, 2,\n",
       "       2, 2, 2, 1, 2, 2, 2, 2, 2, 2, 2, 2, 2, 2, 2, 2, 2, 2, 2],\n",
       "      dtype=int64)"
      ]
     },
     "execution_count": 29,
     "metadata": {},
     "output_type": "execute_result"
    }
   ],
   "source": [
    "gs.predict(X_test)"
   ]
  },
  {
   "cell_type": "code",
   "execution_count": 30,
   "id": "a4fadf95-969f-4a64-99bb-0d2b169a9ec5",
   "metadata": {},
   "outputs": [
    {
     "data": {
      "text/plain": [
       "1"
      ]
     },
     "execution_count": 30,
     "metadata": {},
     "output_type": "execute_result"
    }
   ],
   "source": [
    "y_test.loc[1242]"
   ]
  },
  {
   "cell_type": "code",
   "execution_count": 31,
   "id": "1f9202fd-cb26-4462-8519-2ea8da1f0e2d",
   "metadata": {},
   "outputs": [
    {
     "data": {
      "text/plain": [
       "[0.3548387096774194,\n",
       " 0.0,\n",
       " 1.0,\n",
       " 3.7735849056603776e-05,\n",
       " 1.0,\n",
       " 0.3490566037735849,\n",
       " 1.0,\n",
       " 0.455813953488372,\n",
       " 1.0,\n",
       " 0.7112068965517242,\n",
       " 1.0,\n",
       " 0.3012658227848101]"
      ]
     },
     "execution_count": 31,
     "metadata": {},
     "output_type": "execute_result"
    }
   ],
   "source": [
    "test=[i for i in X_test.loc[1242]]\n",
    "test"
   ]
  },
  {
   "cell_type": "code",
   "execution_count": 32,
   "id": "2fb2f97a-2953-430a-9ef1-128c70278b2d",
   "metadata": {},
   "outputs": [
    {
     "data": {
      "text/html": [
       "<div>\n",
       "<style scoped>\n",
       "    .dataframe tbody tr th:only-of-type {\n",
       "        vertical-align: middle;\n",
       "    }\n",
       "\n",
       "    .dataframe tbody tr th {\n",
       "        vertical-align: top;\n",
       "    }\n",
       "\n",
       "    .dataframe thead th {\n",
       "        text-align: right;\n",
       "    }\n",
       "</style>\n",
       "<table border=\"1\" class=\"dataframe\">\n",
       "  <thead>\n",
       "    <tr style=\"text-align: right;\">\n",
       "      <th></th>\n",
       "      <th>age</th>\n",
       "      <th>sex</th>\n",
       "      <th>TSH_measured</th>\n",
       "      <th>TSH</th>\n",
       "      <th>T3_measured</th>\n",
       "      <th>T3</th>\n",
       "      <th>TT4_measured</th>\n",
       "      <th>TT4</th>\n",
       "      <th>T4U_measured</th>\n",
       "      <th>T4U</th>\n",
       "      <th>FTI_measured</th>\n",
       "      <th>FTI</th>\n",
       "    </tr>\n",
       "  </thead>\n",
       "  <tbody>\n",
       "    <tr>\n",
       "      <th>1242</th>\n",
       "      <td>0.354839</td>\n",
       "      <td>0</td>\n",
       "      <td>1</td>\n",
       "      <td>0.000038</td>\n",
       "      <td>1</td>\n",
       "      <td>0.349057</td>\n",
       "      <td>1</td>\n",
       "      <td>0.455814</td>\n",
       "      <td>1</td>\n",
       "      <td>0.711207</td>\n",
       "      <td>1</td>\n",
       "      <td>0.301266</td>\n",
       "    </tr>\n",
       "  </tbody>\n",
       "</table>\n",
       "</div>"
      ],
      "text/plain": [
       "           age  sex  TSH_measured       TSH  T3_measured        T3  \\\n",
       "1242  0.354839    0             1  0.000038            1  0.349057   \n",
       "\n",
       "      TT4_measured       TT4  T4U_measured       T4U  FTI_measured       FTI  \n",
       "1242             1  0.455814             1  0.711207             1  0.301266  "
      ]
     },
     "execution_count": 32,
     "metadata": {},
     "output_type": "execute_result"
    }
   ],
   "source": [
    "X_test.loc[[1242]]"
   ]
  },
  {
   "cell_type": "code",
   "execution_count": 33,
   "id": "50dfb6d8-5ff4-4797-8886-7ce22a18b127",
   "metadata": {
    "tags": []
   },
   "outputs": [
    {
     "data": {
      "text/plain": [
       "1"
      ]
     },
     "execution_count": 33,
     "metadata": {},
     "output_type": "execute_result"
    }
   ],
   "source": [
    "gs.predict(X_test.loc[[1242]])[0]\n"
   ]
  },
  {
   "cell_type": "code",
   "execution_count": 35,
   "id": "8a33329c-6980-447e-88af-44a62b72e978",
   "metadata": {},
   "outputs": [],
   "source": [
    "test =[i for i in X_test.loc[1242]]"
   ]
  },
  {
   "cell_type": "code",
   "execution_count": 36,
   "id": "6587e444-12fc-4cc6-8882-8d8a95951438",
   "metadata": {},
   "outputs": [],
   "source": [
    "test_df = pd.DataFrame([test],columns=X_test.columns)"
   ]
  },
  {
   "cell_type": "code",
   "execution_count": 37,
   "id": "cdf5d2fd-5db7-4616-9474-aaab1f489b88",
   "metadata": {},
   "outputs": [
    {
     "data": {
      "text/plain": [
       "1192    2\n",
       "2707    2\n",
       "385     2\n",
       "2315    2\n",
       "2981    2\n",
       "       ..\n",
       "3552    2\n",
       "3032    2\n",
       "596     2\n",
       "1892    2\n",
       "54      2\n",
       "Name: Classes, Length: 943, dtype: int64"
      ]
     },
     "execution_count": 37,
     "metadata": {},
     "output_type": "execute_result"
    }
   ],
   "source": [
    "y_test"
   ]
  },
  {
   "cell_type": "code",
   "execution_count": 38,
   "id": "42412d66-e7ef-4768-9e7d-1c2f01519e73",
   "metadata": {},
   "outputs": [
    {
     "data": {
      "text/plain": [
       "1"
      ]
     },
     "execution_count": 38,
     "metadata": {},
     "output_type": "execute_result"
    }
   ],
   "source": [
    "gs.predict(test_df)[0]"
   ]
  },
  {
   "cell_type": "markdown",
   "id": "c2cef9ab-40b5-47a5-bf88-9c4cabd614a1",
   "metadata": {},
   "source": [
    "# Saving model"
   ]
  },
  {
   "cell_type": "code",
   "execution_count": 39,
   "id": "c586cd65-053f-4c89-9aa5-90fd117f768f",
   "metadata": {},
   "outputs": [
    {
     "data": {
      "text/plain": [
       "['model.xgb']"
      ]
     },
     "execution_count": 39,
     "metadata": {},
     "output_type": "execute_result"
    }
   ],
   "source": [
    "import joblib\n",
    "\n",
    "joblib.dump(gs,'model.xgb')"
   ]
  },
  {
   "cell_type": "code",
   "execution_count": 40,
   "id": "111594df-fc85-49f4-8efa-c63770b4b1e5",
   "metadata": {},
   "outputs": [],
   "source": [
    "ml = joblib.load('model.xgb')"
   ]
  },
  {
   "cell_type": "code",
   "execution_count": 41,
   "id": "051e9f8f-eb7d-4b48-a070-7dbfd7183844",
   "metadata": {},
   "outputs": [
    {
     "data": {
      "text/plain": [
       "1"
      ]
     },
     "execution_count": 41,
     "metadata": {},
     "output_type": "execute_result"
    }
   ],
   "source": [
    "ml.predict(test_df)[0]"
   ]
  },
  {
   "cell_type": "code",
   "execution_count": null,
   "id": "03b4ba0e-d16b-4b60-a496-205479d45806",
   "metadata": {},
   "outputs": [],
   "source": []
  },
  {
   "cell_type": "code",
   "execution_count": null,
   "id": "62c8f3c6-0dd3-475e-b11b-1cc48ddb3446",
   "metadata": {},
   "outputs": [],
   "source": []
  }
 ],
 "metadata": {
  "kernelspec": {
   "display_name": "Python 3 (ipykernel)",
   "language": "python",
   "name": "python3"
  },
  "language_info": {
   "codemirror_mode": {
    "name": "ipython",
    "version": 3
   },
   "file_extension": ".py",
   "mimetype": "text/x-python",
   "name": "python",
   "nbconvert_exporter": "python",
   "pygments_lexer": "ipython3",
   "version": "3.9.12"
  },
  "widgets": {
   "application/vnd.jupyter.widget-state+json": {
    "state": {},
    "version_major": 2,
    "version_minor": 0
   }
  }
 },
 "nbformat": 4,
 "nbformat_minor": 5
}
